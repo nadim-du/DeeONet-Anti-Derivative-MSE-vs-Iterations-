{
 "cells": [
  {
   "cell_type": "code",
   "execution_count": 1,
   "metadata": {},
   "outputs": [],
   "source": [
    "import numpy as np \n",
    "import scipy.io as io \n",
    "\n",
    "\n",
    "import torch\n",
    "import torch.nn as nn \n",
    "from torch.utils.data import Dataset, DataLoader\n",
    "\n",
    "from IPython.display import clear_output\n",
    "import os"
   ]
  },
  {
   "cell_type": "code",
   "execution_count": 2,
   "metadata": {},
   "outputs": [
    {
     "data": {
      "text/plain": [
       "'cuda'"
      ]
     },
     "execution_count": 2,
     "metadata": {},
     "output_type": "execute_result"
    }
   ],
   "source": [
    "device = 'cuda' if torch.cuda.is_available() else \"cpu\"\n",
    "device"
   ]
  },
  {
   "cell_type": "code",
   "execution_count": 3,
   "metadata": {},
   "outputs": [],
   "source": [
    "data = io.loadmat('Data/Train_Test.mat')\n",
    "\n",
    "u_train = data['u_train']\n",
    "y_train = data['y_train']\n",
    "s_train =  data['s_train']\n",
    "\n",
    "u_test = data['u_test']\n",
    "y_test = data['y_test']\n",
    "s_test = data['s_test']"
   ]
  },
  {
   "cell_type": "code",
   "execution_count": 4,
   "metadata": {},
   "outputs": [],
   "source": [
    "class CustomDataset(Dataset):\n",
    "    def __init__(self,dataset_branch, dataset_trunk, dataset_sol):\n",
    "        self.dataset1 = dataset_branch\n",
    "        self.dataset2 = dataset_trunk\n",
    "        self.dataset3 = dataset_sol\n",
    "\n",
    "    def __len__(self):\n",
    "        return len(self.dataset1)\n",
    "\n",
    "    def __getitem__(self, index):\n",
    "        data1 = self.dataset1[index]\n",
    "        data2 = self.dataset2[index]\n",
    "        data3 = self.dataset3[index]\n",
    "        return data1, data2, data3"
   ]
  },
  {
   "cell_type": "code",
   "execution_count": 5,
   "metadata": {},
   "outputs": [],
   "source": [
    "### builinding the model \n",
    "class DeepOnet(nn.Module):\n",
    "    def __init__(self, depth =2 , width = 40, branch_in=100, trunk_in=20, out_put_dim = 20):\n",
    "        super(DeepOnet, self).__init__()\n",
    "        self.depth = depth\n",
    "\n",
    "        branch_neurons = [branch_in] + [width]*depth + [out_put_dim]\n",
    "        trunk_neurons = [trunk_in] + [width]*depth + [out_put_dim]\n",
    "\n",
    "\n",
    "        self.branch_net = self.net_creation(depth, branch_neurons)\n",
    "        self.trunk_net = self.net_creation(depth, trunk_neurons)\n",
    "\n",
    "        self.b = torch.nn.parameter.Parameter(torch.tensor(0.0))\n",
    "\n",
    "    def net_creation(self, depth, neurons):\n",
    "        layers = []\n",
    "        for i in range(depth):\n",
    "            if i < depth -1: \n",
    "                layer = nn.Sequential(\n",
    "                    nn.Linear(neurons[i], neurons[i+1]), \n",
    "                    nn.Tanh()\n",
    "\n",
    "                )\n",
    "            else:\n",
    "                layer = nn.Sequential(\n",
    "                    nn.Linear(neurons[i+1], neurons[i+2])\n",
    "                )\n",
    "\n",
    "            layers.append(layer)\n",
    "        return nn.Sequential(*layers)\n",
    "    \n",
    "    def forward(self, u, y):\n",
    "        branch_out = self.branch_net(u)\n",
    "        trunk_out = self.trunk_net(y)\n",
    "        out = torch.einsum(\"bi, bi->bi\", branch_out, trunk_out)\n",
    "        out += self.b\n",
    "        return out\n"
   ]
  },
  {
   "cell_type": "code",
   "execution_count": 6,
   "metadata": {},
   "outputs": [],
   "source": [
    "## Train Function\n",
    "\n",
    "def train(model, data_loader, criterion, optimizer):\n",
    "    model.train()\n",
    "    total_loss = 0.0\n",
    "    for batch in data_loader:\n",
    "        batch = [tensor.to(device) for tensor in batch]\n",
    "        u, y, s = batch \n",
    "\n",
    "        s_pred = model(u, y)\n",
    "        loss = criterion(s_pred, s)\n",
    "\n",
    "        optimizer.zero_grad()\n",
    "        loss.backward()\n",
    "        optimizer.step()\n",
    "        total_loss += loss.item()\n",
    "\n",
    "    avg_loss = total_loss/len(data_loader)\n",
    "\n",
    "    return avg_loss\n",
    "\n",
    "## Test Function \n",
    "\n",
    "def test(model, data_loader, criterion):\n",
    "    model.eval()\n",
    "    total_loss = 0.0\n",
    "    for batch in data_loader:\n",
    "        batch = [tensor.to(device) for tensor in batch]\n",
    "        u, y, s = batch\n",
    "        with torch.no_grad():\n",
    "            s_pred = model(u, y)\n",
    "            loss = criterion(s_pred, s)\n",
    "\n",
    "        total_loss += loss.item()\n",
    "\n",
    "    avg_loss = total_loss/len(data_loader)\n",
    "\n",
    "    return avg_loss    \n",
    "\n",
    "\n",
    "### Combine functions \n",
    "def training(EPOCHS, train_dataloader, test_dataloader, d, w):\n",
    "\n",
    "    np.random.seed(0)\n",
    "    model = DeepOnet(branch_in=100, trunk_in=20, depth=d, width=w, out_put_dim=20).to(device=device)\n",
    "\n",
    "    criterion = nn.MSELoss()\n",
    "    optimizer = torch.optim.Adam(model.parameters(), lr = 0.01)\n",
    "\n",
    "    train_losses = []\n",
    "    test_losses = []\n",
    "    for epoch in range(EPOCHS):\n",
    "        train_loss = train(model=model, data_loader=train_dataloader, criterion=criterion, optimizer=optimizer)\n",
    "        train_losses.append(train_loss)\n",
    "\n",
    "\n",
    "        test_loss = test(model=model, data_loader=test_dataloader, criterion=criterion)\n",
    "        test_losses.append(test_loss)\n",
    "\n",
    "        if epoch %20 == 0:\n",
    "            print(f'D{d}W{w} || Epoch: {epoch} || Train Loss: {train_loss: .12f} || Test Loss: {test_loss: .12f}')\n",
    "\n",
    "        if epoch %200 == 0:\n",
    "            clear_output(wait=True)\n",
    "\n",
    "    return model, train_losses, test_losses"
   ]
  },
  {
   "cell_type": "code",
   "execution_count": 7,
   "metadata": {},
   "outputs": [
    {
     "name": "stdout",
     "output_type": "stream",
     "text": [
      "D2W10 || Epoch: 1220 || Train Loss:  0.000367829644 || Test Loss:  0.000365100276\n",
      "D2W10 || Epoch: 1240 || Train Loss:  0.000886657975 || Test Loss:  0.000831594761\n",
      "D2W10 || Epoch: 1260 || Train Loss:  0.000175025571 || Test Loss:  0.000141442732\n",
      "D2W10 || Epoch: 1280 || Train Loss:  0.000245675033 || Test Loss:  0.000274789934\n",
      "D2W10 || Epoch: 1300 || Train Loss:  0.000267813917 || Test Loss:  0.000366630893\n",
      "D2W10 || Epoch: 1320 || Train Loss:  0.000241190952 || Test Loss:  0.000337971766\n"
     ]
    }
   ],
   "source": [
    "BATCH_SIZE = 500 \n",
    "NUM_WORKRS = 6\n",
    "\n",
    "train_dataset = CustomDataset(u_train, y_train, s_train)\n",
    "train_dataloader = DataLoader(dataset=train_dataset, batch_size=BATCH_SIZE, num_workers=NUM_WORKRS)\n",
    "\n",
    "test_dataset = CustomDataset(u_test, y_test, s_test)\n",
    "test_dataloader = DataLoader(dataset=test_dataset, batch_size=BATCH_SIZE*10, num_workers=NUM_WORKRS)\n",
    "\n",
    "depths = [2, 3, 4]\n",
    "widths = [10, 160, 2560]\n",
    "EPOCHS = 10_000\n",
    "\n",
    "\n",
    "for depth, width in zip(depths, widths):\n",
    "    model, train_losses, test_losses = training(EPOCHS=EPOCHS,\n",
    "                                                train_dataloader=train_dataloader,\n",
    "                                                test_dataloader=test_dataloader, \n",
    "                                                d = depth, \n",
    "                                                w = width)\n",
    "    saved_folder = f'Results/D{depth}W{width}'\n",
    "\n",
    "    if not os.path.exists(saved_folder):\n",
    "        os.makedirs(saved_folder)\n",
    "\n",
    "    train_losses = np.array(train_losses)\n",
    "    test_losses = np.array(test_losses)\n",
    "\n",
    "    np.save(f'{saved_folder}/train_losses.npy', train_losses)\n",
    "    np.save(f'{saved_folder}/test_losses.npy', test_losses)\n",
    "    torch.save(model, f'{saved_folder}/model.pth')\n"
   ]
  }
 ],
 "metadata": {
  "kernelspec": {
   "display_name": "Python 3 (ipykernel)",
   "language": "python",
   "name": "python3"
  },
  "language_info": {
   "codemirror_mode": {
    "name": "ipython",
    "version": 3
   },
   "file_extension": ".py",
   "mimetype": "text/x-python",
   "name": "python",
   "nbconvert_exporter": "python",
   "pygments_lexer": "ipython3",
   "version": "3.11.5"
  }
 },
 "nbformat": 4,
 "nbformat_minor": 2
}
